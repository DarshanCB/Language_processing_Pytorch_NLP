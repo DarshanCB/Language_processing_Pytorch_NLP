{
 "cells": [
  {
   "cell_type": "code",
   "execution_count": 1,
   "metadata": {},
   "outputs": [],
   "source": [
    "from io import open\n",
    "import  glob #allows to open all the path names specific to the regex(.txt)\n",
    "import os\n",
    "import zipfile\n"
   ]
  },
  {
   "cell_type": "code",
   "execution_count": 7,
   "metadata": {},
   "outputs": [
    {
     "name": "stdout",
     "output_type": "stream",
     "text": [
      "['C:\\\\Users\\\\Computer\\\\Music\\\\data\\\\names\\\\Arabic.txt', 'C:\\\\Users\\\\Computer\\\\Music\\\\data\\\\names\\\\Chinese.txt', 'C:\\\\Users\\\\Computer\\\\Music\\\\data\\\\names\\\\Czech.txt', 'C:\\\\Users\\\\Computer\\\\Music\\\\data\\\\names\\\\Dutch.txt', 'C:\\\\Users\\\\Computer\\\\Music\\\\data\\\\names\\\\English.txt', 'C:\\\\Users\\\\Computer\\\\Music\\\\data\\\\names\\\\French.txt', 'C:\\\\Users\\\\Computer\\\\Music\\\\data\\\\names\\\\German.txt', 'C:\\\\Users\\\\Computer\\\\Music\\\\data\\\\names\\\\Greek.txt', 'C:\\\\Users\\\\Computer\\\\Music\\\\data\\\\names\\\\Irish.txt', 'C:\\\\Users\\\\Computer\\\\Music\\\\data\\\\names\\\\Italian.txt', 'C:\\\\Users\\\\Computer\\\\Music\\\\data\\\\names\\\\Japanese.txt', 'C:\\\\Users\\\\Computer\\\\Music\\\\data\\\\names\\\\Korean.txt', 'C:\\\\Users\\\\Computer\\\\Music\\\\data\\\\names\\\\Polish.txt', 'C:\\\\Users\\\\Computer\\\\Music\\\\data\\\\names\\\\Portuguese.txt', 'C:\\\\Users\\\\Computer\\\\Music\\\\data\\\\names\\\\Russian.txt', 'C:\\\\Users\\\\Computer\\\\Music\\\\data\\\\names\\\\Scottish.txt', 'C:\\\\Users\\\\Computer\\\\Music\\\\data\\\\names\\\\Spanish.txt', 'C:\\\\Users\\\\Computer\\\\Music\\\\data\\\\names\\\\Vietnamese.txt']\n"
     ]
    }
   ],
   "source": [
    "print(glob.glob(r'C:\\Users\\Computer\\Music\\data\\names\\*.txt'))"
   ]
  },
  {
   "cell_type": "code",
   "execution_count": 8,
   "metadata": {},
   "outputs": [
    {
     "data": {
      "text/plain": [
       "'abcdefghijklmnopqrstuvwxyzABCDEFGHIJKLMNOPQRSTUVWXYZ .,;'"
      ]
     },
     "execution_count": 8,
     "metadata": {},
     "output_type": "execute_result"
    }
   ],
   "source": [
    "import unicodedata\n",
    "import string\n",
    "\n",
    "all_letters = string.ascii_letters + \" .,;\"\n",
    "n_letters = len(all_letters)\n",
    "\n",
    "all_letters"
   ]
  },
  {
   "cell_type": "code",
   "execution_count": 9,
   "metadata": {},
   "outputs": [
    {
     "data": {
      "text/plain": [
       "56"
      ]
     },
     "execution_count": 9,
     "metadata": {},
     "output_type": "execute_result"
    }
   ],
   "source": [
    "n_letters"
   ]
  },
  {
   "cell_type": "code",
   "execution_count": 13,
   "metadata": {},
   "outputs": [],
   "source": [
    "#using one-hot vector with 0-57 element long (1 - respect to , 0- other encoding to convert text to machinene readable data\n",
    "\n",
    "language_names = {}\n",
    "all_languages = []\n"
   ]
  },
  {
   "cell_type": "code",
   "execution_count": 14,
   "metadata": {},
   "outputs": [
    {
     "name": "stdout",
     "output_type": "stream",
     "text": [
      "DARSHAN\n"
     ]
    }
   ],
   "source": [
    "print(unicodeToAscii('DARSHAN'))"
   ]
  },
  {
   "cell_type": "code",
   "execution_count": 15,
   "metadata": {},
   "outputs": [],
   "source": [
    "def unicodeToAscii(s):\n",
    "    return ''.join(\n",
    "        c for c in unicodedata.normalize('NFD', s)\n",
    "        if unicodedata.category(c) != 'Mn'\n",
    "        and c in all_letters\n",
    "    )"
   ]
  },
  {
   "cell_type": "code",
   "execution_count": 16,
   "metadata": {},
   "outputs": [],
   "source": [
    "def findFiles(path):\n",
    "    return glob.glob(path)"
   ]
  },
  {
   "cell_type": "code",
   "execution_count": 17,
   "metadata": {},
   "outputs": [],
   "source": [
    "total_names = 0\n",
    "\n",
    "#to process the each and every file one by one\n",
    "\n",
    "for filename in findFiles('C:/Users/Computer/Music/data/names/*.txt'):\n",
    "    language = os.path.splitext(os.path.basename(filename)) [0]\n",
    "    all_languages.append(language)\n",
    "    #strip any trailing and ;eading zeros respectively\n",
    "    read_names = open(filename, encoding='utf-8').read().strip().split('\\n')\n",
    "    names = [unicodeToAscii(line) for line in read_names]\n",
    "    language_names[language] = names\n",
    "    total_names += len(names)"
   ]
  },
  {
   "cell_type": "code",
   "execution_count": 18,
   "metadata": {},
   "outputs": [
    {
     "data": {
      "text/plain": [
       "['Arabic',\n",
       " 'Chinese',\n",
       " 'Czech',\n",
       " 'Dutch',\n",
       " 'English',\n",
       " 'French',\n",
       " 'German',\n",
       " 'Greek',\n",
       " 'Irish',\n",
       " 'Italian',\n",
       " 'Japanese',\n",
       " 'Korean',\n",
       " 'Polish',\n",
       " 'Portuguese',\n",
       " 'Russian',\n",
       " 'Scottish',\n",
       " 'Spanish',\n",
       " 'Vietnamese']"
      ]
     },
     "execution_count": 18,
     "metadata": {},
     "output_type": "execute_result"
    }
   ],
   "source": [
    "all_languages"
   ]
  },
  {
   "cell_type": "code",
   "execution_count": 19,
   "metadata": {},
   "outputs": [
    {
     "data": {
      "text/plain": [
       "18"
      ]
     },
     "execution_count": 19,
     "metadata": {},
     "output_type": "execute_result"
    }
   ],
   "source": [
    "n_languages = len(all_languages)\n",
    "n_languages"
   ]
  },
  {
   "cell_type": "code",
   "execution_count": 20,
   "metadata": {},
   "outputs": [
    {
     "data": {
      "text/plain": [
       "20074"
      ]
     },
     "execution_count": 20,
     "metadata": {},
     "output_type": "execute_result"
    }
   ],
   "source": [
    "total_names"
   ]
  },
  {
   "cell_type": "code",
   "execution_count": 21,
   "metadata": {},
   "outputs": [
    {
     "name": "stdout",
     "output_type": "stream",
     "text": [
      "['Abl', 'Adsit', 'Ajdrna', 'Alt', 'Antonowitsch']\n"
     ]
    }
   ],
   "source": [
    "print(language_names['Czech'][:5])"
   ]
  },
  {
   "cell_type": "code",
   "execution_count": 22,
   "metadata": {},
   "outputs": [
    {
     "name": "stdout",
     "output_type": "stream",
     "text": [
      "tensor(0.)\n",
      "tensor([[0., 0., 0., 0., 0., 0., 0., 0., 0., 0., 0., 0., 0., 0., 0., 0., 0., 0., 0., 0., 0., 0., 0., 0.,\n",
      "         0., 0., 0., 0., 0., 0., 0., 0., 0., 0., 0., 0., 0., 0., 0., 0., 0., 0., 0., 0., 0., 0., 0., 0.,\n",
      "         0., 0., 0., 0., 0., 0., 0., 0.]])\n"
     ]
    }
   ],
   "source": [
    "import torch\n",
    "tensor = torch.zeros(1,n_letters)\n",
    "print(tensor[0][all_letters.find('D')])\n",
    "print(tensor)\n"
   ]
  },
  {
   "cell_type": "code",
   "execution_count": 23,
   "metadata": {},
   "outputs": [],
   "source": [
    "def letterToTensor(letter):\n",
    "    tensor= torch.zeros(1,n_letters)\n",
    "    tensor[0][all_letters.find(letter)] = 1\n",
    "    return tensor"
   ]
  },
  {
   "cell_type": "code",
   "execution_count": 24,
   "metadata": {},
   "outputs": [
    {
     "data": {
      "text/plain": [
       "tensor([[0., 0., 0., 0., 0., 0., 0., 0., 0., 0., 0., 0., 0., 0., 0., 0., 0., 0.,\n",
       "         0., 0., 0., 0., 0., 0., 0., 0., 0., 0., 0., 1., 0., 0., 0., 0., 0., 0.,\n",
       "         0., 0., 0., 0., 0., 0., 0., 0., 0., 0., 0., 0., 0., 0., 0., 0., 0., 0.,\n",
       "         0., 0.]])"
      ]
     },
     "execution_count": 24,
     "metadata": {},
     "output_type": "execute_result"
    }
   ],
   "source": [
    "#One_hot_encoding of the dataset\n",
    "letterToTensor('D')"
   ]
  },
  {
   "cell_type": "code",
   "execution_count": 25,
   "metadata": {},
   "outputs": [
    {
     "data": {
      "text/plain": [
       "tensor([[0., 0., 0., 0., 0., 0., 0., 0., 0., 0., 0., 0., 0., 0., 0., 0., 0., 0.,\n",
       "         0., 0., 0., 0., 0., 0., 0., 0., 0., 0., 0., 1., 0., 0., 0., 0., 0., 0.,\n",
       "         0., 0., 0., 0., 0., 0., 0., 0., 0., 0., 0., 0., 0., 0., 0., 0., 0., 0.,\n",
       "         0., 0.]])"
      ]
     },
     "execution_count": 25,
     "metadata": {},
     "output_type": "execute_result"
    }
   ],
   "source": [
    "letterToTensor('D')"
   ]
  },
  {
   "cell_type": "code",
   "execution_count": 26,
   "metadata": {},
   "outputs": [],
   "source": [
    "#whole name will be encoded into one-hot tensor respectively\n",
    "def nameToTensor(name):\n",
    "    tensor = torch.zeros(len(name), 1, n_letters)\n",
    "    \n",
    "    for li, letter in enumerate(name):\n",
    "        tensor[li][0][all_letters.find(letter)] = 1\n",
    "        \n",
    "    return tensor"
   ]
  },
  {
   "cell_type": "code",
   "execution_count": 27,
   "metadata": {},
   "outputs": [],
   "source": [
    "check_size = nameToTensor('DARSHAN')"
   ]
  },
  {
   "cell_type": "code",
   "execution_count": 28,
   "metadata": {},
   "outputs": [
    {
     "data": {
      "text/plain": [
       "torch.Size([7, 1, 56])"
      ]
     },
     "execution_count": 28,
     "metadata": {},
     "output_type": "execute_result"
    }
   ],
   "source": [
    "check_size.size() #there are 7-character, 1-RNN expects, 56-totalascicharacters"
   ]
  },
  {
   "cell_type": "code",
   "execution_count": 29,
   "metadata": {},
   "outputs": [
    {
     "data": {
      "text/plain": [
       "tensor([[[0., 0., 0., 0., 0., 0., 0., 0., 0., 0., 0., 0., 0., 0., 0., 0., 0.,\n",
       "          0., 0., 0., 0., 0., 0., 0., 0., 0., 0., 0., 0., 1., 0., 0., 0., 0.,\n",
       "          0., 0., 0., 0., 0., 0., 0., 0., 0., 0., 0., 0., 0., 0., 0., 0., 0.,\n",
       "          0., 0., 0., 0., 0.]],\n",
       "\n",
       "        [[0., 0., 0., 0., 0., 0., 0., 0., 0., 0., 0., 0., 0., 0., 0., 0., 0.,\n",
       "          0., 0., 0., 0., 0., 0., 0., 0., 0., 1., 0., 0., 0., 0., 0., 0., 0.,\n",
       "          0., 0., 0., 0., 0., 0., 0., 0., 0., 0., 0., 0., 0., 0., 0., 0., 0.,\n",
       "          0., 0., 0., 0., 0.]],\n",
       "\n",
       "        [[0., 0., 0., 0., 0., 0., 0., 0., 0., 0., 0., 0., 0., 0., 0., 0., 0.,\n",
       "          0., 0., 0., 0., 0., 0., 0., 0., 0., 0., 0., 0., 0., 0., 0., 0., 0.,\n",
       "          0., 0., 0., 0., 0., 0., 0., 0., 0., 1., 0., 0., 0., 0., 0., 0., 0.,\n",
       "          0., 0., 0., 0., 0.]],\n",
       "\n",
       "        [[0., 0., 0., 0., 0., 0., 0., 0., 0., 0., 0., 0., 0., 0., 0., 0., 0.,\n",
       "          0., 0., 0., 0., 0., 0., 0., 0., 0., 0., 0., 0., 0., 0., 0., 0., 0.,\n",
       "          0., 0., 0., 0., 0., 0., 0., 0., 0., 0., 1., 0., 0., 0., 0., 0., 0.,\n",
       "          0., 0., 0., 0., 0.]],\n",
       "\n",
       "        [[0., 0., 0., 0., 0., 0., 0., 0., 0., 0., 0., 0., 0., 0., 0., 0., 0.,\n",
       "          0., 0., 0., 0., 0., 0., 0., 0., 0., 0., 0., 0., 0., 0., 0., 0., 1.,\n",
       "          0., 0., 0., 0., 0., 0., 0., 0., 0., 0., 0., 0., 0., 0., 0., 0., 0.,\n",
       "          0., 0., 0., 0., 0.]],\n",
       "\n",
       "        [[0., 0., 0., 0., 0., 0., 0., 0., 0., 0., 0., 0., 0., 0., 0., 0., 0.,\n",
       "          0., 0., 0., 0., 0., 0., 0., 0., 0., 1., 0., 0., 0., 0., 0., 0., 0.,\n",
       "          0., 0., 0., 0., 0., 0., 0., 0., 0., 0., 0., 0., 0., 0., 0., 0., 0.,\n",
       "          0., 0., 0., 0., 0.]],\n",
       "\n",
       "        [[0., 0., 0., 0., 0., 0., 0., 0., 0., 0., 0., 0., 0., 0., 0., 0., 0.,\n",
       "          0., 0., 0., 0., 0., 0., 0., 0., 0., 0., 0., 0., 0., 0., 0., 0., 0.,\n",
       "          0., 0., 0., 0., 0., 1., 0., 0., 0., 0., 0., 0., 0., 0., 0., 0., 0.,\n",
       "          0., 0., 0., 0., 0.]]])"
      ]
     },
     "execution_count": 29,
     "metadata": {},
     "output_type": "execute_result"
    }
   ],
   "source": [
    "check_size"
   ]
  },
  {
   "cell_type": "code",
   "execution_count": 30,
   "metadata": {},
   "outputs": [],
   "source": [
    "import torch.nn as nn\n",
    "\n",
    "class RNN(nn.Module):\n",
    "    def __init__(self, input_size, hidden_size, output_size):\n",
    "        super(RNN, self).__init__()\n",
    "        #'self' instance attributes\n",
    "        self.hidden_size = hidden_size\n",
    "        #i2h = input-to-hidden(fully connected Linear), gets the next hidden state from the current input and previous hidden state\n",
    "        self.i2h = nn.Linear(input_size + hidden_size, hidden_size)\n",
    "        #i2o input to output state (Linear fully connected)\n",
    "        self.i2o = nn.Linear(input_size + hidden_size, output_size)\n",
    "        #activation function used to normalize and classify the data\n",
    "        self.softmax = nn.LogSoftmax(dim=1)\n",
    "        \n",
    "    \n",
    "#current input, hidden state\n",
    "    def forward(self, input, hidden):\n",
    "        #first neural network layer\n",
    "        combined = torch.cat((input, hidden),1)\n",
    "        # second neural network layer\n",
    "        hidden = self.i2h(combined)\n",
    "        # third neural network layer along with the softmax activation function\n",
    "        output = self.i2o(combined)\n",
    "        # softmax activation function\n",
    "        output = self.softmax(output)\n",
    "        \n",
    "        return output, hidden\n",
    "    \n",
    "    def initHidden(self):\n",
    "        return torch.zeros(1, self.hidden_size)"
   ]
  },
  {
   "cell_type": "code",
   "execution_count": 31,
   "metadata": {},
   "outputs": [],
   "source": [
    "n_hidden = 256\n",
    "\n",
    "rnn = RNN(n_letters, n_hidden, n_languages)"
   ]
  },
  {
   "cell_type": "code",
   "execution_count": 32,
   "metadata": {},
   "outputs": [
    {
     "name": "stdout",
     "output_type": "stream",
     "text": [
      "output_size = torch.Size([1, 18])\n",
      "next_hidden_size = torch.Size([1, 256])\n"
     ]
    }
   ],
   "source": [
    "inp = letterToTensor('A')\n",
    "\n",
    "hidden = torch.zeros(1, n_hidden)\n",
    "\n",
    "output, next_hidden = rnn(inp, hidden)\n",
    "\n",
    "print('output_size =', output.size())\n",
    "print('next_hidden_size =', next_hidden.size())"
   ]
  },
  {
   "cell_type": "code",
   "execution_count": 33,
   "metadata": {},
   "outputs": [],
   "source": [
    "inp = nameToTensor('Charron')\n",
    "\n",
    "hidden = torch.zeros(1,n_hidden)\n",
    "\n",
    "output, next_hidden = rnn(inp[0], hidden)"
   ]
  },
  {
   "cell_type": "code",
   "execution_count": 34,
   "metadata": {},
   "outputs": [
    {
     "name": "stdout",
     "output_type": "stream",
     "text": [
      "tensor([[-2.8593, -2.9201, -2.9523, -2.9407, -2.9241, -2.8340, -2.8081, -2.9024,\n",
      "         -2.8781, -2.9454, -2.8667, -2.9015, -2.8642, -2.8811, -2.9296, -2.8271,\n",
      "         -2.8865, -2.9208]], grad_fn=<LogSoftmaxBackward>)\n"
     ]
    }
   ],
   "source": [
    "print(output)"
   ]
  },
  {
   "cell_type": "code",
   "execution_count": 35,
   "metadata": {},
   "outputs": [],
   "source": [
    "def languageFromOutput(output):\n",
    "    _, top_i = output.topk(1)\n",
    "    language_i = top_i[0].item()\n",
    "    return all_languages[language_i], language_i"
   ]
  },
  {
   "cell_type": "code",
   "execution_count": 36,
   "metadata": {},
   "outputs": [
    {
     "name": "stdout",
     "output_type": "stream",
     "text": [
      "('German', 6)\n"
     ]
    }
   ],
   "source": [
    "print(languageFromOutput(output))"
   ]
  },
  {
   "cell_type": "code",
   "execution_count": 37,
   "metadata": {},
   "outputs": [],
   "source": [
    "#random training of the data set\n",
    "import random\n",
    "\n",
    "def randomTrainingExample():\n",
    "    random_language_index = random.randint(0,n_languages-1)\n",
    "    language = all_languages[random_language_index]\n",
    "    random_language_names = language_names[language]\n",
    "    name = random_language_names[random.randint(0,len(random_language_names)-1)]\n",
    "    language_tensor = torch.tensor([all_languages.index(language)], dtype= torch.long)\n",
    "    name_tensor = nameToTensor(name)\n",
    "    \n",
    "    return language, name, language_tensor, name_tensor"
   ]
  },
  {
   "cell_type": "code",
   "execution_count": 38,
   "metadata": {},
   "outputs": [],
   "source": [
    "criterion = nn.NLLLoss()\n",
    "learning_rate = 0.005"
   ]
  },
  {
   "cell_type": "code",
   "execution_count": 39,
   "metadata": {},
   "outputs": [
    {
     "name": "stdout",
     "output_type": "stream",
     "text": [
      "language= English ,name= Titterington\n",
      "language= Vietnamese ,name= Bui\n",
      "language= Polish ,name= Andrysiak\n",
      "language= Portuguese ,name= Gaspar\n",
      "language= Japanese ,name= Jo\n",
      "language= Russian ,name= Jukhma\n",
      "language= Czech ,name= Chromy\n",
      "language= Dutch ,name= Koole\n",
      "language= Polish ,name= Winogrodzki\n",
      "language= Russian ,name= Valmasov\n"
     ]
    }
   ],
   "source": [
    "for i in range(10):\n",
    "    language, name, language_tensor, name_tensor = randomTrainingExample()\n",
    "    \n",
    "    print('language=', language, ',name=',name)"
   ]
  },
  {
   "cell_type": "code",
   "execution_count": 40,
   "metadata": {},
   "outputs": [],
   "source": [
    "#Building the train model\n",
    "\n",
    "def train(langauge_tensor, name_tensor):\n",
    "    #hidden state is set to all zero\n",
    "    hidden = rnn.initHidden()\n",
    "    #SGD starting the optimization by considering all the initial value to zero\n",
    "    rnn.zero_grad()\n",
    "    \n",
    "    for i in range(name_tensor.size()[0]):\n",
    "        output, hidden = rnn(name_tensor[i], hidden)\n",
    "     \n",
    "    loss = criterion(output, language_tensor)\n",
    "    loss.backward()\n",
    "    \n",
    "    for p in rnn.parameters():\n",
    "        p.data.add_(-learning_rate, p.grad.data)\n",
    "    \n",
    "    return output, loss.item()\n",
    "    "
   ]
  },
  {
   "cell_type": "code",
   "execution_count": 41,
   "metadata": {},
   "outputs": [],
   "source": [
    "n_iters = 200000\n",
    "\n",
    "current_loss = 0\n",
    "all_losses = []"
   ]
  },
  {
   "cell_type": "code",
   "execution_count": 42,
   "metadata": {},
   "outputs": [
    {
     "name": "stdout",
     "output_type": "stream",
     "text": [
      "5000 2% 2.5184 Vuong/ Arabicwrong (Vietnamese)\n",
      "10000 5% 1.8794 Zhang/ Vietnamesewrong (Chinese)\n",
      "15000 7% 2.9163 Lapointe/ Russianwrong (French)\n",
      "20000 10% 2.1710 Sokal/ Arabicwrong (Polish)\n",
      "25000 12% 0.4939 Dinh/ Vietnamesecorrect\n",
      "30000 15% 1.0880 Rotolo/ Italiancorrect\n",
      "35000 17% 2.4980 Sponer/ Germanwrong (Czech)\n",
      "40000 20% 0.2149 Vyrubov/ Russiancorrect\n",
      "45000 22% 1.1697 Acker/ Germancorrect\n",
      "50000 25% 0.9263 Ran/ Chinesecorrect\n",
      "55000 27% 0.0657 Tsukahara/ Japanesecorrect\n",
      "60000 30% 0.9058 Sotiris/ Greekcorrect\n",
      "65000 32% 0.0769 Akimoto/ Japanesecorrect\n",
      "70000 35% 0.2852 Odaka/ Japanesecorrect\n",
      "75000 37% 0.4431 Paszek/ Polishcorrect\n",
      "80000 40% 0.1289 Gwang / Koreancorrect\n",
      "85000 42% 1.3148 Ramirez/ Portuguesewrong (Spanish)\n",
      "90000 45% 0.2213 Isobe/ Japanesecorrect\n",
      "95000 47% 2.2746 Rousses/ Portuguesewrong (Greek)\n",
      "100000 50% 0.2811 Watson/ Scottishcorrect\n",
      "105000 52% 0.2348 Wechsler/ Germancorrect\n",
      "110000 55% 0.2484 Thai/ Vietnamesecorrect\n",
      "115000 57% 0.9911 Reynold/ Irishcorrect\n",
      "120000 60% 0.4285 Makioka/ Japanesecorrect\n",
      "125000 62% 3.0984 Black/ Scottishwrong (English)\n",
      "130000 65% 0.2127 Levesque/ Frenchcorrect\n",
      "135000 67% 0.0092 Azhiganov/ Russiancorrect\n",
      "140000 70% 1.0867 OHara/ Japanesewrong (Irish)\n",
      "145000 72% 1.1284 Paterson/ Scottishcorrect\n",
      "150000 75% 1.7688 Wedekind/ Englishwrong (German)\n",
      "155000 77% 0.4204 Wahner/ Germancorrect\n",
      "160000 80% 0.0465 Quraishi/ Arabiccorrect\n",
      "165000 82% 0.1580 Totolos/ Greekcorrect\n",
      "170000 85% 1.8945 Kohl/ Scottishwrong (German)\n",
      "175000 87% 0.0110 Polymenakou/ Greekcorrect\n",
      "180000 90% 0.5660 Bai/ Chinesecorrect\n",
      "185000 92% 3.1618 Kennedy/ Irishwrong (Scottish)\n",
      "190000 95% 0.0131 Kreskas/ Greekcorrect\n",
      "195000 97% 2.4938 Kocian/ Polishwrong (Czech)\n",
      "200000 100% 3.1829 Farmer/ Germanwrong (English)\n"
     ]
    }
   ],
   "source": [
    "for epoch in range(1, n_iters+1):\n",
    "    \n",
    "    language, name, language_tensor, name_tensor = randomTrainingExample()\n",
    "    \n",
    "    output,loss = train(language_tensor, name_tensor)\n",
    "    current_loss += loss\n",
    "    \n",
    "    if epoch % 5000 == 0:\n",
    "        guess, guess_i = languageFromOutput(output)\n",
    "        correct = 'correct' if guess == language else 'wrong (%s)' % language\n",
    "        \n",
    "        print('%d %d%% %.4f %s/ %s%s' % (epoch,\n",
    "                                        epoch/ n_iters * 100,\n",
    "                                        loss,\n",
    "                                        name,\n",
    "                                        guess,\n",
    "                                        correct))\n",
    "    if epoch % 1000 == 0:\n",
    "        all_losses.append(current_loss/1000)\n",
    "        current_loss = 0"
   ]
  },
  {
   "cell_type": "code",
   "execution_count": 45,
   "metadata": {},
   "outputs": [
    {
     "data": {
      "image/png": "[encoded data removed]",
      "text/plain": [
       "<Figure size 720x576 with 1 Axes>"
      ]
     },
     "metadata": {
      "needs_background": "light"
     },
     "output_type": "display_data"
    }
   ],
   "source": [
    "import matplotlib.pyplot as plt\n",
    "plt.figure(figsize=(10,8))\n",
    "plt.plot(all_losses)\n",
    "plt.show()"
   ]
  },
  {
   "cell_type": "code",
   "execution_count": 46,
   "metadata": {},
   "outputs": [],
   "source": [
    "n_predictions = 3"
   ]
  },
  {
   "cell_type": "code",
   "execution_count": 47,
   "metadata": {},
   "outputs": [],
   "source": [
    "input_name = 'Amaya'\n"
   ]
  },
  {
   "cell_type": "code",
   "execution_count": 55,
   "metadata": {},
   "outputs": [
    {
     "name": "stdout",
     "output_type": "stream",
     "text": [
      "(-0.13) Japanese\n",
      "(-2.27) Arabic\n",
      "(-4.86) Portuguese\n"
     ]
    }
   ],
   "source": [
    "#we need to turn off the gradient for the test data\n",
    "\n",
    "with torch.no_grad():\n",
    "    name_tensor = nameToTensor(input_name)\n",
    "    \n",
    "    hidden = rnn.initHidden()\n",
    "    for i in range(name_tensor.size()[0]):\n",
    "        output, hidden = rnn(name_tensor[i], hidden)\n",
    "    \n",
    "    #top 3 langusge will printed\n",
    "    topv, topi = output.topk(n_predictions,1, True)\n",
    "    check = []\n",
    "    language = []\n",
    "    \n",
    "    for i in range(n_predictions):\n",
    "        value = topv[0][i].item()\n",
    "        check.append(value)\n",
    "        language_index = topi[0][i].item()\n",
    "        language.append(language_index)\n",
    "        \n",
    "        print('(%.2f) %s' % (value, all_languages[language_index]))"
   ]
  },
  {
   "cell_type": "code",
   "execution_count": null,
   "metadata": {},
   "outputs": [],
   "source": []
  },
  {
   "cell_type": "code",
   "execution_count": null,
   "metadata": {},
   "outputs": [],
   "source": []
  }
 ],
 "metadata": {
  "kernelspec": {
   "display_name": "Python 3",
   "language": "python",
   "name": "python3"
  },
  "language_info": {
   "codemirror_mode": {
    "name": "ipython",
    "version": 3
   },
   "file_extension": ".py",
   "mimetype": "text/x-python",
   "name": "python",
   "nbconvert_exporter": "python",
   "pygments_lexer": "ipython3",
   "version": "3.7.6"
  }
 },
 "nbformat": 4,
 "nbformat_minor": 2
}
